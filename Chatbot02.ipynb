{
 "cells": [
  {
   "cell_type": "markdown",
   "id": "7c8cb028-f886-475e-a3b6-a2b4f548478d",
   "metadata": {},
   "source": [
    "#### **Notice:** <span style=\"color:red\">Read the file</span> `Program_Setting_Up_Guide.ipynb` before running the codes in this notebook.\n",
    "\n",
    "# Chatbot 02\n",
    "### For experimental condition 2 - Suggestive Guidance\n",
    "\n",
    "This Python notebook file is written by **Yilan Wang** (Student Number: 12813168), a student in the research master's programme of Communication Science (September 2022 - July 2024) at University of Amsterdam, for her master's thesis - **Give An Option, or Give A Solution? The Role of Scepticism and Conversational Agents’ Decisional Guidance in Consumer Decision Making**.\n",
    "\n",
    "To be able to run this script, you need to first check the version of your python, install the chatterbot library, and edit some codes in your python library to keep everything compatible with each other.  \n",
    "\n",
    "To learn about more details, please check the document **`Program_Setting_Up_Guide.ipynb`** in the same folder."
   ]
  },
  {
   "cell_type": "markdown",
   "id": "786f5a13-5479-423e-9311-ab317941be5c",
   "metadata": {},
   "source": [
    "## 1. Load required libraries and modules\n",
    "\n",
    "To conduct the lab experiment, the researcher used the python library `Chatterbot` (https://chatterbot.readthedocs.io/en/stable/index.html) to build and train chatbots with adapted English corpus data.\n",
    "\n",
    "The modules `ListTrainer` and `ChatterBotCorpusTrainer` are used to train the chatbot with pre-determined list data as well as corpus data.\n",
    "\n",
    "`os` is a module used to create/edit/manage/delete files and directories.\n",
    "\n",
    "`flask` is a framework used to build and run the front end of the following chatbot."
   ]
  },
  {
   "cell_type": "code",
   "execution_count": 1,
   "id": "429a8184-4672-4e16-9893-759d5e0d8d2d",
   "metadata": {},
   "outputs": [],
   "source": [
    "#import the ChatterBot library\n",
    "from chatterbot import ChatBot\n",
    "\n",
    "#import ListTrainer to train the bot based on pre-determined list data\n",
    "from chatterbot.trainers import ListTrainer\n",
    "\n",
    "#import CorpusTrainer to train the bot based on English corpus data\n",
    "from chatterbot.trainers import ChatterBotCorpusTrainer\n",
    "\n",
    "#import the os module to enable interacting with the operating system\n",
    "import os\n",
    "\n",
    "#load the flask framework to run web applications\n",
    "from flask import Flask, render_template, request"
   ]
  },
  {
   "cell_type": "markdown",
   "id": "511acca2-75a7-4562-a4d8-ac8618bc8f50",
   "metadata": {},
   "source": [
    "## 2.Build the chatbot\n",
    "This section is written to create the chatbot for the experimental condition 2 - Suggestive Decisional Guidance. This chatbot is named as `Alex02`.  At the Front End (local web page), both chatbots in condition 1 and condition 2 are called '**Alex**'. \n",
    "\n",
    "The `SQLStorageAdapter` attribute is used to connect to SQL databases and create a local SQL database `database2.db` which will be used by this chatbot to store its trained data. \n",
    "\n",
    "The path to this database is specified with the database parameter `database_uri` ."
   ]
  },
  {
   "cell_type": "code",
   "execution_count": 2,
   "id": "33eaa003-0c9b-4b5d-855a-fad11bc6487d",
   "metadata": {},
   "outputs": [
    {
     "name": "stderr",
     "output_type": "stream",
     "text": [
      "[nltk_data] Downloading package averaged_perceptron_tagger to\n",
      "[nltk_data]     /Users/yilanwang/nltk_data...\n",
      "[nltk_data]   Package averaged_perceptron_tagger is already up-to-\n",
      "[nltk_data]       date!\n",
      "[nltk_data] Downloading package punkt to /Users/yilanwang/nltk_data...\n",
      "[nltk_data]   Package punkt is already up-to-date!\n",
      "[nltk_data] Downloading package stopwords to\n",
      "[nltk_data]     /Users/yilanwang/nltk_data...\n",
      "[nltk_data]   Package stopwords is already up-to-date!\n"
     ]
    }
   ],
   "source": [
    "#build and define the database's path of this chatbot\n",
    "bot = ChatBot('Alex02',\n",
    "              storage_adapter='chatterbot.storage.SQLStorageAdapter',\n",
    "    database_uri='sqlite:///database2.db'\n",
    "             )"
   ]
  },
  {
   "cell_type": "markdown",
   "id": "1a0b57de-b605-4804-be3e-cfcdc9ffd715",
   "metadata": {},
   "source": [
    "## 3. Train the chatbot\n",
    "This section is written to train the chatbot with the English Corpus data which is adapted and customised by **Yilan Wang**. The original corpus data comes from the developer **Gunther Cox**: https://github.com/gunthercox/chatterbot-corpus/tree/master/chatterbot_corpus/data/english\n",
    "\n",
    "Meanwhile, the list data defines which of the two stimulus material (the output data) used in this experiment is presented to a participant.\n",
    "\n",
    "\n",
    "### 1) Train with customised corpus data"
   ]
  },
  {
   "cell_type": "code",
   "execution_count": 3,
   "id": "4ce5c2d8-092d-46ba-b942-56eb0f288d34",
   "metadata": {},
   "outputs": [
    {
     "name": "stdout",
     "output_type": "stream",
     "text": [
      "Training botprofile.yml: [####################] 100%\n",
      "Training computers.yml: [####################] 100%\n",
      "Training conversations.yml: [####################] 100%\n",
      "Training food.yml: [####################] 100%\n",
      "Training gossip.yml: [####################] 100%\n",
      "Training greetings.yml: [####################] 100%\n",
      "Training health.yml: [####################] 100%\n",
      "Training humor.yml: [####################] 100%\n",
      "Training money.yml: [####################] 100%\n",
      "Training psychology.yml: [####################] 100%\n",
      "Training science.yml: [####################] 100%\n",
      "Training sports.yml: [####################] 100%\n"
     ]
    }
   ],
   "source": [
    "#train the chatbot with the customised corpus datasets\n",
    "#these .yml documents located in the folder 'Corpus'\n",
    "\n",
    "trainer = ChatterBotCorpusTrainer(bot)\n",
    "trainer.train(\"./Corpus/botprofile.yml\")\n",
    "trainer.train(\"./Corpus/computers.yml\")\n",
    "trainer.train(\"./Corpus/conversations.yml\")\n",
    "trainer.train(\"./Corpus/food.yml\")\n",
    "trainer.train(\"./Corpus/gossip.yml\")\n",
    "trainer.train(\"./Corpus/greetings.yml\")\n",
    "trainer.train(\"./Corpus/health.yml\")\n",
    "trainer.train(\"./Corpus/humor.yml\")\n",
    "trainer.train(\"./Corpus/money.yml\")\n",
    "trainer.train(\"./Corpus/psychology.yml\")\n",
    "trainer.train(\"./Corpus/science.yml\")\n",
    "trainer.train(\"./Corpus/sports.yml\")"
   ]
  },
  {
   "cell_type": "markdown",
   "id": "ca1e5e04-b158-4b28-97a7-406a4bcaee1e",
   "metadata": {},
   "source": [
    "### 2) Train with list data containing specific inputs and outputs\n",
    "This section decides which experimental stimuli that one participant is exposed to during the experiment. \n",
    "\n",
    "- In experimental condition 1, participants will read the text output 'I found some information about the cafés in Amsterdam.' and see an image from the Github link https://github.com/AlessiaWang/myimage/blob/main/stimuli.png?raw=true.\n",
    "\n",
    "- In experimental condition 2, participants will read the text output 'I’d love to recommend you to try the following cafés in Amsterdam.' and see the same image from the same Github link.\n",
    "\n",
    "The following codes are written for **experimental condition 2**."
   ]
  },
  {
   "cell_type": "code",
   "execution_count": 4,
   "id": "86f67643-6b5b-45a4-a181-d989ffa2d78c",
   "metadata": {},
   "outputs": [
    {
     "name": "stdout",
     "output_type": "stream",
     "text": [
      "List Trainer: [####################] 100%\n",
      "List Trainer: [####################] 100%\n",
      "List Trainer: [####################] 100%\n",
      "List Trainer: [####################] 100%\n",
      "List Trainer: [####################] 100%\n",
      "List Trainer: [####################] 100%\n",
      "List Trainer: [####################] 100%\n"
     ]
    }
   ],
   "source": [
    "#train the chatbot with list data\n",
    "trainer = ListTrainer(bot)\n",
    "\n",
    "trainer.train(['Find me cafés in Amsterdam', 'I’d love to recommend you to try the following cafés in Amsterdam. \\n <img src=\"https://github.com/AlessiaWang/myimage/blob/main/stimuli.png?raw=true\" height=\"500\">'])\n",
    "trainer.train(['Find me cafe in Amsterdam', 'I’d love to recommend you to try the following cafés in Amsterdam. \\n <img src=\"https://github.com/AlessiaWang/myimage/blob/main/stimuli.png?raw=true\" height=\"500\">'])\n",
    "trainer.train(['Find cafés in Amsterdam', 'I’d love to recommend you to try the following cafés in Amsterdam. \\n <img src=\"https://github.com/AlessiaWang/myimage/blob/main/stimuli.png?raw=true\" height=\"500\">'])\n",
    "trainer.train(['Find cafe in Amsterdam', 'I’d love to recommend you to try the following cafés in Amsterdam. \\n <img src=\"https://github.com/AlessiaWang/myimage/blob/main/stimuli.png?raw=true\" height=\"500\">'])\n",
    "trainer.train(['find me places to eat in Amsterdam', 'I’d love to recommend you to try the following cafés in Amsterdam. \\n <img src=\"https://github.com/AlessiaWang/myimage/blob/main/stimuli.png?raw=true\" height=\"500\">'])\n",
    "trainer.train(['find me places to eat in Amsterdam', 'I’d love to recommend you to try the following cafés in Amsterdam. \\n <img src=\"https://github.com/AlessiaWang/myimage/blob/main/stimuli.png?raw=true\" height=\"500\">'])\n",
    "trainer.train(['find me places to eat or drink in Amsterdam', 'I’d love to recommend you to try the following cafés in Amsterdam. \\n <img src=\"https://github.com/AlessiaWang/myimage/blob/main/stimuli.png?raw=true\" height=\"500\">'])"
   ]
  },
  {
   "cell_type": "markdown",
   "id": "a985630c-0ec6-4566-98f4-e5b693292652",
   "metadata": {},
   "source": [
    "trainer = ListTrainer(bot)\n",
    "trainer.train([\n",
    "    'Hello, how are you?',\n",
    "    'I am doing well!',\n",
    "    'That is good to hear.',\n",
    "    'Thank you :D'\n",
    "])"
   ]
  },
  {
   "cell_type": "markdown",
   "id": "971fa2c4-ec46-447b-8290-07b5805b522a",
   "metadata": {},
   "source": [
    "## 4. Flask Application\n",
    "This section writes and runs the function which allows participants to interact with the chatbot on a web Front End via the Flask App.\n",
    "\n",
    "**Notice:**\n",
    "\n",
    "- Every time the **kernel restarts**, all the codes in this script need to be run again to be able to run the following Front-End.\n",
    "\n",
    "- You may directly click on the link that is provided by the program and open it, or you may copy the following address http://146.50.232.195:3000, paste it in the URL bar/address bar on your web browser, and go.\n",
    "\n",
    "- You need to **refresh the html page of the Front End on your browser before each participant starts** interacting with the chatbot."
   ]
  },
  {
   "cell_type": "code",
   "execution_count": 5,
   "id": "013e566d-239b-476c-ae7d-108b770dd0bd",
   "metadata": {},
   "outputs": [],
   "source": [
    "#build a flask application 'app2'\n",
    "app2 = Flask(__name__)"
   ]
  },
  {
   "cell_type": "code",
   "execution_count": 6,
   "id": "5f4642be-0fc7-40cf-b153-9c5fdce9d372",
   "metadata": {},
   "outputs": [
    {
     "name": "stdout",
     "output_type": "stream",
     "text": [
      " * Serving Flask app '__main__'\n",
      " * Debug mode: off\n"
     ]
    },
    {
     "name": "stderr",
     "output_type": "stream",
     "text": [
      "\u001b[31m\u001b[1mWARNING: This is a development server. Do not use it in a production deployment. Use a production WSGI server instead.\u001b[0m\n",
      " * Running on all addresses (0.0.0.0)\n",
      " * Running on http://127.0.0.1:3000\n",
      " * Running on http://145.109.61.137:3000\n",
      "\u001b[33mPress CTRL+C to quit\u001b[0m\n",
      "145.109.61.137 - - [20/Jun/2024 17:06:33] \"GET / HTTP/1.1\" 200 -\n",
      "145.109.61.137 - - [20/Jun/2024 17:08:52] \"GET /get?msg=Find%20me%20cafés%20in%20Amsterdam HTTP/1.1\" 200 -\n"
     ]
    }
   ],
   "source": [
    "#write a function for 'app2' to run the Flask App as the front end of this chatbot \n",
    "@app2.route(\"/\")\n",
    "def home():    \n",
    "    return render_template(\"home02.html\") #run the App using home02.html as template\n",
    "@app2.route(\"/get\")\n",
    "def get_bot_response():    \n",
    "    userText = request.args.get('msg')    \n",
    "    return str(bot.get_response(userText)) #show the output data in the front end from the Output given by bot.get_response(Input)\n",
    "if __name__ == \"__main__\":    \n",
    "    app2.run(host='0.0.0.0',port=3000) #define the port as 3000 so that this App can run together with the other App in the other experimental condition"
   ]
  },
  {
   "cell_type": "code",
   "execution_count": null,
   "id": "7ea50d97-9714-4a0e-b39c-ec043ce70c6b",
   "metadata": {},
   "outputs": [],
   "source": [
    "#run the Application 'pp2\n",
    "$ python app2.py"
   ]
  }
 ],
 "metadata": {
  "kernelspec": {
   "display_name": "Python 3 (ipykernel)",
   "language": "python",
   "name": "python3"
  },
  "language_info": {
   "codemirror_mode": {
    "name": "ipython",
    "version": 3
   },
   "file_extension": ".py",
   "mimetype": "text/x-python",
   "name": "python",
   "nbconvert_exporter": "python",
   "pygments_lexer": "ipython3",
   "version": "3.12.3"
  }
 },
 "nbformat": 4,
 "nbformat_minor": 5
}
