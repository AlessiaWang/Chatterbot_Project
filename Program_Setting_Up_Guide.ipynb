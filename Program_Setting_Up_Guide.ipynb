{
 "cells": [
  {
   "cell_type": "markdown",
   "id": "4179602b-dddf-4aff-8906-ccc86e68ed03",
   "metadata": {},
   "source": [
    "#### **Notice: <span style=\"color:red\">Read this file</span>** before running the codes in `Chatbot01.ipynb` and `Chatbot02.ipynb`."
   ]
  },
  {
   "cell_type": "markdown",
   "id": "2de003bc-b32e-4828-bbeb-2b55e58f9da2",
   "metadata": {},
   "source": [
    "# Program Setting Up Guide\n",
    "\n",
    "## 1. File Description\n",
    "This Python notebook file is written by **Yilan Wang** (Student Number: 12813168), a student in the research master's programme of Communication Science (September 2022 - July 2024) at University of Amsterdam. It aims to enable that the Python library `Chatterbot` (https://chatterbot.readthedocs.io/en/stable/index.html) run successfully on your laptop or PC. \n",
    "\n",
    "`Chatterbot` is used to build real chatbots that can provide messages as stimuli in the student's experimental research - **Give An Option, or Give A Solution? The Role of Scepticism and Conversational Agents’ Decisional Guidance in Consumer Decision Making**. \n",
    "\n",
    "## 2. Step-by-step Guide of Installation\n",
    "This guide is written to install Chatterbot to build and train chatbots on `Mac OS systems` (my version is Mac OS Sonoma 14.4.). It may require some different codes to run Chatterbot on the Windows system.\n",
    "\n",
    "After you have run all the codes in this file and adjusted the python scripts on your laptop or PC according to instructions, you will be able to import the `Chatterbot` library and run the codes in `Chatbot01.ipynb` and `Chatbot02.ipynb` that allow you to build and train chatbots on your local computer.\n"
   ]
  },
  {
   "cell_type": "markdown",
   "id": "b796bc63-28a3-4d3d-a112-3dc82c603c3f",
   "metadata": {},
   "source": [
    "### 1) Check if your environment is ready\n",
    "Before installing the library `Chatterbot`, you need to first ensure that you have a correct version of `Python` and `Git`.\n",
    "\n",
    "1. The command line to install anything (i.e., `Jupyter Notebook`) via your **Terminal**:\n",
    "\n",
    "Use `pip3 --install` and `python3 --install`\n",
    "instead of `pip --install` or `python --install`\n",
    "\n",
    "2. Install the **`Python Package Index`** (PyPI) so that `pip3` is enabled:\n",
    "\n",
    "#### Relevant documentations about Python packages:\n",
    "- https://pypi.org/\n",
    "- https://packaging.python.org/en/latest/tutorials/installing-packages/"
   ]
  },
  {
   "cell_type": "code",
   "execution_count": 1,
   "id": "f239838a-ee0c-45be-ada0-06cef0db108d",
   "metadata": {},
   "outputs": [
    {
     "name": "stdout",
     "output_type": "stream",
     "text": [
      "Python 3.12.3\n"
     ]
    }
   ],
   "source": [
    "# Check Python version\n",
    "# In Jupyter notebook every installation command using python should be !python 3 --\n",
    "!python3 --version\n",
    "\n",
    "# On a Windows system, you can use: py -m pip --version"
   ]
  },
  {
   "cell_type": "code",
   "execution_count": 8,
   "id": "2056ef7a-d107-4212-8502-4f7f3a40193c",
   "metadata": {},
   "outputs": [
    {
     "name": "stdout",
     "output_type": "stream",
     "text": [
      "Requirement already satisfied: pip in /Library/Frameworks/Python.framework/Versions/3.12/lib/python3.12/site-packages (24.0)\n",
      "Collecting setuptools\n",
      "  Using cached setuptools-69.5.1-py3-none-any.whl.metadata (6.2 kB)\n",
      "Collecting wheel\n",
      "  Using cached wheel-0.43.0-py3-none-any.whl.metadata (2.2 kB)\n",
      "Using cached setuptools-69.5.1-py3-none-any.whl (894 kB)\n",
      "Using cached wheel-0.43.0-py3-none-any.whl (65 kB)\n",
      "Installing collected packages: wheel, setuptools\n",
      "Successfully installed setuptools-69.5.1 wheel-0.43.0\n"
     ]
    }
   ],
   "source": [
    "# Check if pip is the newest version\n",
    "# Ensure pip, setuptools, and wheel are up to date\n",
    "!python3 -m pip install --upgrade pip setuptools wheel\n",
    "\n",
    "# On a Windows system, you can use: py -m pip install --upgrade pip setuptools wheel"
   ]
  },
  {
   "cell_type": "code",
   "execution_count": 3,
   "id": "4780cae2-8222-4344-a0c0-24596e6c9e9e",
   "metadata": {},
   "outputs": [
    {
     "name": "stdout",
     "output_type": "stream",
     "text": [
      "git version 2.39.3 (Apple Git-146)\n"
     ]
    }
   ],
   "source": [
    "# Check github git version\n",
    "! git --version\n",
    "\n",
    "# On a Windows system, you can use: py git --version"
   ]
  },
  {
   "cell_type": "markdown",
   "id": "0ba94df5-6e62-4388-b91d-10ecef89c0a2",
   "metadata": {},
   "source": [
    "### 2) Chatterbot Installation\n",
    "\n",
    "According to the issue reported and solved on Github (https://github.com/gunthercox/ChatterBot/issues/2305), there will be an error which prevents chatterbot from working successfuly if you only run the code `pip install chatterbot`.\n",
    "\n",
    "This is due to the incompatibability between the Chatterbot library and the latest updates in Python. \n",
    "You certainly do not want to downgrade our Python, then you need to install chatterbot with specifying the version as 1.0.4.\n",
    "\n",
    "#### Relevant documentations of Chatterbot:\n",
    " - https://chatterbot.readthedocs.io/en/stable/setup.html\n",
    " - https://github.com/gunthercox/ChatterBot/tree/master/chatterbot"
   ]
  },
  {
   "cell_type": "code",
   "execution_count": 5,
   "id": "310fc4e6-de26-4bfc-a62c-66e3f32f1957",
   "metadata": {},
   "outputs": [
    {
     "name": "stdout",
     "output_type": "stream",
     "text": [
      "Collecting chatterbot==1.0.4\n",
      "  Downloading ChatterBot-1.0.4-py2.py3-none-any.whl.metadata (8.0 kB)\n",
      "Collecting chatterbot-corpus<1.3,>=1.2 (from chatterbot==1.0.4)\n",
      "  Downloading chatterbot_corpus-1.2.0-py2.py3-none-any.whl.metadata (5.0 kB)\n",
      "Collecting mathparse<0.2,>=0.1 (from chatterbot==1.0.4)\n",
      "  Using cached mathparse-0.1.2-py3-none-any.whl.metadata (776 bytes)\n",
      "Collecting nltk<4.0,>=3.2 (from chatterbot==1.0.4)\n",
      "  Using cached nltk-3.8.1-py3-none-any.whl.metadata (2.8 kB)\n",
      "Collecting pymongo<4.0,>=3.3 (from chatterbot==1.0.4)\n",
      "  Using cached pymongo-3.13.0.tar.gz (804 kB)\n",
      "  Preparing metadata (setup.py) ... \u001b[?25ldone\n",
      "\u001b[?25hCollecting python-dateutil<2.8,>=2.7 (from chatterbot==1.0.4)\n",
      "  Using cached python_dateutil-2.7.5-py2.py3-none-any.whl.metadata (7.5 kB)\n",
      "Collecting sqlalchemy<1.3,>=1.2 (from chatterbot==1.0.4)\n",
      "  Downloading SQLAlchemy-1.2.19.tar.gz (5.7 MB)\n",
      "\u001b[2K     \u001b[90m━━━━━━━━━━━━━━━━━━━━━━━━━━━━━━━━━━━━━━━━\u001b[0m \u001b[32m5.7/5.7 MB\u001b[0m \u001b[31m3.9 MB/s\u001b[0m eta \u001b[36m0:00:00\u001b[0ma \u001b[36m0:00:01\u001b[0m\n",
      "\u001b[?25h  Preparing metadata (setup.py) ... \u001b[?25ldone\n",
      "\u001b[?25hCollecting pint>=0.8.1 (from chatterbot==1.0.4)\n",
      "  Using cached Pint-0.23-py3-none-any.whl.metadata (8.1 kB)\n",
      "Collecting PyYAML<4.0,>=3.12 (from chatterbot-corpus<1.3,>=1.2->chatterbot==1.0.4)\n",
      "  Downloading PyYAML-3.13.tar.gz (270 kB)\n",
      "\u001b[2K     \u001b[90m━━━━━━━━━━━━━━━━━━━━━━━━━━━━━━━━━━━━━━━\u001b[0m \u001b[32m270.6/270.6 kB\u001b[0m \u001b[31m2.4 MB/s\u001b[0m eta \u001b[36m0:00:00\u001b[0m00:01\u001b[0m00:01\u001b[0m\n",
      "\u001b[?25h  Preparing metadata (setup.py) ... \u001b[?25ldone\n",
      "\u001b[?25hCollecting click (from nltk<4.0,>=3.2->chatterbot==1.0.4)\n",
      "  Downloading click-8.1.7-py3-none-any.whl.metadata (3.0 kB)\n",
      "Collecting joblib (from nltk<4.0,>=3.2->chatterbot==1.0.4)\n",
      "  Downloading joblib-1.4.0-py3-none-any.whl.metadata (5.4 kB)\n",
      "Collecting regex>=2021.8.3 (from nltk<4.0,>=3.2->chatterbot==1.0.4)\n",
      "  Downloading regex-2024.4.28-cp312-cp312-macosx_11_0_arm64.whl.metadata (40 kB)\n",
      "\u001b[2K     \u001b[90m━━━━━━━━━━━━━━━━━━━━━━━━━━━━━━━━━━━━━━━━\u001b[0m \u001b[32m40.8/40.8 kB\u001b[0m \u001b[31m3.7 MB/s\u001b[0m eta \u001b[36m0:00:00\u001b[0m\n",
      "\u001b[?25hCollecting tqdm (from nltk<4.0,>=3.2->chatterbot==1.0.4)\n",
      "  Downloading tqdm-4.66.2-py3-none-any.whl.metadata (57 kB)\n",
      "\u001b[2K     \u001b[90m━━━━━━━━━━━━━━━━━━━━━━━━━━━━━━━━━━━━━━━━\u001b[0m \u001b[32m57.6/57.6 kB\u001b[0m \u001b[31m6.2 MB/s\u001b[0m eta \u001b[36m0:00:00\u001b[0m\n",
      "\u001b[?25hCollecting typing-extensions (from pint>=0.8.1->chatterbot==1.0.4)\n",
      "  Downloading typing_extensions-4.11.0-py3-none-any.whl.metadata (3.0 kB)\n",
      "Requirement already satisfied: six>=1.5 in /Library/Frameworks/Python.framework/Versions/3.12/lib/python3.12/site-packages (from python-dateutil<2.8,>=2.7->chatterbot==1.0.4) (1.16.0)\n",
      "Downloading ChatterBot-1.0.4-py2.py3-none-any.whl (66 kB)\n",
      "\u001b[2K   \u001b[90m━━━━━━━━━━━━━━━━━━━━━━━━━━━━━━━━━━━━━━━━\u001b[0m \u001b[32m66.3/66.3 kB\u001b[0m \u001b[31m7.3 MB/s\u001b[0m eta \u001b[36m0:00:00\u001b[0m\n",
      "\u001b[?25hDownloading chatterbot_corpus-1.2.0-py2.py3-none-any.whl (117 kB)\n",
      "\u001b[2K   \u001b[90m━━━━━━━━━━━━━━━━━━━━━━━━━━━━━━━━━━━━━━━━\u001b[0m \u001b[32m117.3/117.3 kB\u001b[0m \u001b[31m10.3 MB/s\u001b[0m eta \u001b[36m0:00:00\u001b[0m\n",
      "\u001b[?25hDownloading mathparse-0.1.2-py3-none-any.whl (7.2 kB)\n",
      "Downloading nltk-3.8.1-py3-none-any.whl (1.5 MB)\n",
      "\u001b[2K   \u001b[90m━━━━━━━━━━━━━━━━━━━━━━━━━━━━━━━━━━━━━━━━\u001b[0m \u001b[32m1.5/1.5 MB\u001b[0m \u001b[31m15.0 MB/s\u001b[0m eta \u001b[36m0:00:00\u001b[0ma \u001b[36m0:00:01\u001b[0m\n",
      "\u001b[?25hDownloading Pint-0.23-py3-none-any.whl (305 kB)\n",
      "\u001b[2K   \u001b[90m━━━━━━━━━━━━━━━━━━━━━━━━━━━━━━━━━━━━━━━━\u001b[0m \u001b[32m305.0/305.0 kB\u001b[0m \u001b[31m15.4 MB/s\u001b[0m eta \u001b[36m0:00:00\u001b[0m\n",
      "\u001b[?25hDownloading python_dateutil-2.7.5-py2.py3-none-any.whl (225 kB)\n",
      "\u001b[2K   \u001b[90m━━━━━━━━━━━━━━━━━━━━━━━━━━━━━━━━━━━━━━━━\u001b[0m \u001b[32m225.7/225.7 kB\u001b[0m \u001b[31m13.6 MB/s\u001b[0m eta \u001b[36m0:00:00\u001b[0m\n",
      "\u001b[?25hDownloading regex-2024.4.28-cp312-cp312-macosx_11_0_arm64.whl (278 kB)\n",
      "\u001b[2K   \u001b[90m━━━━━━━━━━━━━━━━━━━━━━━━━━━━━━━━━━━━━━━━\u001b[0m \u001b[32m278.5/278.5 kB\u001b[0m \u001b[31m13.1 MB/s\u001b[0m eta \u001b[36m0:00:00\u001b[0m\n",
      "\u001b[?25hDownloading click-8.1.7-py3-none-any.whl (97 kB)\n",
      "\u001b[2K   \u001b[90m━━━━━━━━━━━━━━━━━━━━━━━━━━━━━━━━━━━━━━━━\u001b[0m \u001b[32m97.9/97.9 kB\u001b[0m \u001b[31m8.2 MB/s\u001b[0m eta \u001b[36m0:00:00\u001b[0m\n",
      "\u001b[?25hDownloading joblib-1.4.0-py3-none-any.whl (301 kB)\n",
      "\u001b[2K   \u001b[90m━━━━━━━━━━━━━━━━━━━━━━━━━━━━━━━━━━━━━━━━\u001b[0m \u001b[32m301.2/301.2 kB\u001b[0m \u001b[31m14.2 MB/s\u001b[0m eta \u001b[36m0:00:00\u001b[0m\n",
      "\u001b[?25hDownloading tqdm-4.66.2-py3-none-any.whl (78 kB)\n",
      "\u001b[2K   \u001b[90m━━━━━━━━━━━━━━━━━━━━━━━━━━━━━━━━━━━━━━━━\u001b[0m \u001b[32m78.3/78.3 kB\u001b[0m \u001b[31m8.7 MB/s\u001b[0m eta \u001b[36m0:00:00\u001b[0m\n",
      "\u001b[?25hDownloading typing_extensions-4.11.0-py3-none-any.whl (34 kB)\n",
      "Building wheels for collected packages: pymongo, sqlalchemy, PyYAML\n",
      "  Building wheel for pymongo (setup.py) ... \u001b[?25ldone\n",
      "\u001b[?25h  Created wheel for pymongo: filename=pymongo-3.13.0-cp312-cp312-macosx_10_9_universal2.whl size=428971 sha256=a7ef0d0ef223537055fd678f5415104b3c8f4c0448cd117eec12b44215f3caf4\n",
      "  Stored in directory: /Users/yilanwang/Library/Caches/pip/wheels/36/d8/d4/b5636cc3c4b99684d3aa369a2d75661a06b522ed4e382a8dfa\n",
      "  Building wheel for sqlalchemy (setup.py) ... \u001b[?25ldone\n",
      "\u001b[?25h  Created wheel for sqlalchemy: filename=SQLAlchemy-1.2.19-cp312-cp312-macosx_10_9_universal2.whl size=1117887 sha256=c1c221f50a890da956bebc6475faeb0a6e218616c7c30d166c7414feede3f457\n",
      "  Stored in directory: /Users/yilanwang/Library/Caches/pip/wheels/0b/7e/50/84e9e1171b9f75c3c2c401f9360cf19609f1e07087d721e480\n",
      "  Building wheel for PyYAML (setup.py) ... \u001b[?25ldone\n",
      "\u001b[?25h  Created wheel for PyYAML: filename=PyYAML-3.13-cp312-cp312-macosx_10_9_universal2.whl size=43107 sha256=758c2bb65de69f1eb91ec87090c88e81d21b12b18dd3cff672c15021dafc6650\n",
      "  Stored in directory: /Users/yilanwang/Library/Caches/pip/wheels/16/8f/dc/41349f3faf779c509beea0a3af5671234b704cb0eeedce6cc6\n",
      "Successfully built pymongo sqlalchemy PyYAML\n",
      "Installing collected packages: sqlalchemy, PyYAML, mathparse, typing-extensions, tqdm, regex, python-dateutil, pymongo, joblib, click, chatterbot-corpus, pint, nltk, chatterbot\n",
      "  Attempting uninstall: PyYAML\n",
      "    Found existing installation: PyYAML 6.0.1\n",
      "    Uninstalling PyYAML-6.0.1:\n",
      "      Successfully uninstalled PyYAML-6.0.1\n",
      "  Attempting uninstall: python-dateutil\n",
      "    Found existing installation: python-dateutil 2.9.0.post0\n",
      "    Uninstalling python-dateutil-2.9.0.post0:\n",
      "      Successfully uninstalled python-dateutil-2.9.0.post0\n",
      "\u001b[31mERROR: pip's dependency resolver does not currently take into account all the packages that are installed. This behaviour is the source of the following dependency conflicts.\n",
      "jupyter-events 0.10.0 requires pyyaml>=5.3, but you have pyyaml 3.13 which is incompatible.\n",
      "jupyter-client 8.6.1 requires python-dateutil>=2.8.2, but you have python-dateutil 2.7.5 which is incompatible.\u001b[0m\u001b[31m\n",
      "\u001b[0mSuccessfully installed PyYAML-3.13 chatterbot-1.0.4 chatterbot-corpus-1.2.0 click-8.1.7 joblib-1.4.0 mathparse-0.1.2 nltk-3.8.1 pint-0.23 pymongo-3.13.0 python-dateutil-2.7.5 regex-2024.4.28 sqlalchemy-1.2.19 tqdm-4.66.2 typing-extensions-4.11.0\n",
      "Note: you may need to restart the kernel to use updated packages.\n"
     ]
    }
   ],
   "source": [
    "# Install Chatterbot\n",
    "# To avoid the incompatibability between Chatterbot (using python ver lower than 3.8.0) \n",
    "# and the newest version of python,\n",
    "# Install the 1.0.4 version\n",
    "pip install chatterbot==1.0.4"
   ]
  },
  {
   "cell_type": "markdown",
   "id": "ef9fb6e5-c50e-4539-9992-73cb0a897e34",
   "metadata": {},
   "source": [
    "### 3) Package Installation\n",
    "\n",
    "- To successfully import and run Chatterbot without errors, you still need to install the `pytz` library which allows accurate and cross platform timezone calculations (https://pypi.org/project/pytz/).\n",
    "  \n",
    "- You will need `.yaml` files to train your chatbots with corpus data. Since there can be an incompatibability issue between the Chatterbot library 1.0.4 and the current PyYaml package on your computer, you may need to upgrade the `PyYaml` library (https://pypi.org/project/PyYAML/).\n",
    "  \n",
    "- You will need to install the `Flask` framework (https://flask.palletsprojects.com/en/3.0.x/) to allow your chatbots to run its Front-End App on your local web server.\n",
    "\n",
    "#### Documentations of Flask:\n",
    "- https://learnku.com/python/t/38853\n",
    "- https://github.com/sahil-rajput/Candice-YourPersonalChatBot/blob/master/templates/home.html\n",
    "- https://github.com/chamkank/flask-chatterbot/blob/master/templates/index.html#L20-L23"
   ]
  },
  {
   "cell_type": "code",
   "execution_count": 1,
   "id": "419752dd-cdef-4e27-814d-73926bb738e7",
   "metadata": {},
   "outputs": [
    {
     "name": "stdout",
     "output_type": "stream",
     "text": [
      "Collecting pytz\n",
      "  Downloading pytz-2024.1-py2.py3-none-any.whl.metadata (22 kB)\n",
      "Downloading pytz-2024.1-py2.py3-none-any.whl (505 kB)\n",
      "\u001b[2K   \u001b[90m━━━━━━━━━━━━━━━━━━━━━━━━━━━━━━━━━━━━━━━━\u001b[0m \u001b[32m505.5/505.5 kB\u001b[0m \u001b[31m10.5 MB/s\u001b[0m eta \u001b[36m0:00:00\u001b[0m \u001b[36m0:00:01\u001b[0m\n",
      "\u001b[?25hInstalling collected packages: pytz\n",
      "Successfully installed pytz-2024.1\n",
      "Note: you may need to restart the kernel to use updated packages.\n"
     ]
    }
   ],
   "source": [
    "# Install the package that ChatterBot needs\n",
    "pip install pytz"
   ]
  },
  {
   "cell_type": "code",
   "execution_count": 4,
   "id": "106bcc0e-ccbf-4461-8d54-ab8fa7a5e870",
   "metadata": {},
   "outputs": [
    {
     "name": "stdout",
     "output_type": "stream",
     "text": [
      "Requirement already satisfied: PyYaml in /Library/Frameworks/Python.framework/Versions/3.12/lib/python3.12/site-packages (3.13)\n",
      "Collecting PyYaml\n",
      "  Using cached PyYAML-6.0.1-cp312-cp312-macosx_11_0_arm64.whl.metadata (2.1 kB)\n",
      "Using cached PyYAML-6.0.1-cp312-cp312-macosx_11_0_arm64.whl (165 kB)\n",
      "Installing collected packages: PyYaml\n",
      "  Attempting uninstall: PyYaml\n",
      "    Found existing installation: PyYAML 3.13\n",
      "    Uninstalling PyYAML-3.13:\n",
      "      Successfully uninstalled PyYAML-3.13\n",
      "\u001b[31mERROR: pip's dependency resolver does not currently take into account all the packages that are installed. This behaviour is the source of the following dependency conflicts.\n",
      "chatterbot-corpus 1.2.0 requires PyYAML<4.0,>=3.12, but you have pyyaml 6.0.1 which is incompatible.\u001b[0m\u001b[31m\n",
      "\u001b[0mSuccessfully installed PyYaml-6.0.1\n"
     ]
    }
   ],
   "source": [
    "!pip3 install --upgrade PyYaml"
   ]
  },
  {
   "cell_type": "code",
   "execution_count": 3,
   "id": "53e59697-e875-43fc-889c-b8376a3d49f2",
   "metadata": {},
   "outputs": [
    {
     "name": "stdout",
     "output_type": "stream",
     "text": [
      "Collecting Flask\n",
      "  Downloading flask-3.0.3-py3-none-any.whl.metadata (3.2 kB)\n",
      "Collecting Werkzeug>=3.0.0 (from Flask)\n",
      "  Downloading werkzeug-3.0.2-py3-none-any.whl.metadata (4.1 kB)\n",
      "Requirement already satisfied: Jinja2>=3.1.2 in /Library/Frameworks/Python.framework/Versions/3.12/lib/python3.12/site-packages (from Flask) (3.1.3)\n",
      "Collecting itsdangerous>=2.1.2 (from Flask)\n",
      "  Downloading itsdangerous-2.2.0-py3-none-any.whl.metadata (1.9 kB)\n",
      "Requirement already satisfied: click>=8.1.3 in /Library/Frameworks/Python.framework/Versions/3.12/lib/python3.12/site-packages (from Flask) (8.1.7)\n",
      "Collecting blinker>=1.6.2 (from Flask)\n",
      "  Downloading blinker-1.8.1-py3-none-any.whl.metadata (1.6 kB)\n",
      "Requirement already satisfied: MarkupSafe>=2.0 in /Library/Frameworks/Python.framework/Versions/3.12/lib/python3.12/site-packages (from Jinja2>=3.1.2->Flask) (2.1.5)\n",
      "Downloading flask-3.0.3-py3-none-any.whl (101 kB)\n",
      "\u001b[2K   \u001b[90m━━━━━━━━━━━━━━━━━━━━━━━━━━━━━━━━━━━━━━━━\u001b[0m \u001b[32m101.7/101.7 kB\u001b[0m \u001b[31m5.8 MB/s\u001b[0m eta \u001b[36m0:00:00\u001b[0m\n",
      "\u001b[?25hDownloading blinker-1.8.1-py3-none-any.whl (9.5 kB)\n",
      "Downloading itsdangerous-2.2.0-py3-none-any.whl (16 kB)\n",
      "Downloading werkzeug-3.0.2-py3-none-any.whl (226 kB)\n",
      "\u001b[2K   \u001b[90m━━━━━━━━━━━━━━━━━━━━━━━━━━━━━━━━━━━━━━━━\u001b[0m \u001b[32m226.8/226.8 kB\u001b[0m \u001b[31m12.0 MB/s\u001b[0m eta \u001b[36m0:00:00\u001b[0m\n",
      "\u001b[?25hInstalling collected packages: Werkzeug, itsdangerous, blinker, Flask\n",
      "Successfully installed Flask-3.0.3 Werkzeug-3.0.2 blinker-1.8.1 itsdangerous-2.2.0\n"
     ]
    }
   ],
   "source": [
    "# Use Flask to set up a Front-End view of the chatbots\n",
    "# Install Flask\n",
    "!pip3 install Flask"
   ]
  },
  {
   "cell_type": "markdown",
   "id": "46347554-2a2d-491f-afad-d4ef46cbcbfe",
   "metadata": {},
   "source": [
    "## 3. Editing specific scripts in your directory:\n",
    "The following codes are written to particularly fix the errors I encountered.\n",
    "\n",
    "The following texts explained what kinds of issues I had met and what my solutions were. However, there's no need for you to edit the Python scripts manually in your user directory, you can just replace them with the scripts I made in the folder `myscripts`.\n",
    "\n",
    "### How to replace your scripts\n",
    "If you replace your scripts based on the instructions given in this section, you **do not** need to read the section `Optional information: How to manually fix your scripts`.\n",
    "\n",
    "1. find the following script `constructor.py` in your user directory (the folder where the `yaml` package is installed on your computer). On my Macbook laptop, the file's path is: File /Library/Frameworks/Python.framework/Versions/3.12/lib/python3.12/site-pac kages/yaml/constructor.py\n",
    "\n",
    "Open the folder `myscripts` which is located in the same path as this guide, find the fixed file that has the same name as `constructor.py`, and replace the original file on your computer with this fixed file.\n",
    "\n",
    "2. Find the following script `corpus.py` in the `chatterbot` package in your user directory. On my Macbook laptop the path is: /Library/Frameworks/Python.framework/Versions/3.12/lib/python3.12/site-pac kages/chatterbot/corpus.py\n",
    "\n",
    "Open the folder `myscripts` which is located in the same path as this guide, find the fixed file that has the same name as `corpus.py`, and replace the original file on your computer with this fixed file.\n",
    "\n",
    "3. Find the following script `app.py` in the `flask` package in your user directory. On my Macbook laptop the path is: /Library/Frameworks/Python.framework/Versions/3.12/lib/python3.12/site-packages/flask/sansio/app.py\n",
    "\n",
    "Open the folder `myscripts` which is located in the same path as this guide, find the fixed file that has the same name as `app.py`, and replace the original file on your computer with this fixed file."
   ]
  },
  {
   "cell_type": "markdown",
   "id": "a9408b08-a5ae-4c30-9abf-d194eaf70317",
   "metadata": {},
   "source": [
    "## 4. Materials that are used to build my own English Corpus\n",
    "\n",
    "#### Everyday Conversations in English\n",
    "Several sentences in the following document are used in my English Corpus.\n",
    "- https://americanenglish.state.gov/files/ae/resource_files/b_dialogues_everyday_conversations_english_lo_0.pdf\n",
    "\n",
    "#### Jokes in English\n",
    "The following English jokes are added to the two chatbots that I trained for the sake of letting the chatbots learn how to hold conversations in a more natural manner. I did not specifically instruct the participants to let the chatbot tell them jokes, so that participants' emotional appeal will not be triggered during the conversation.\n",
    "\n",
    "- https://parade.com/1287449/marynliles/short-jokes/\n",
    "- https://www.rd.com/list/short-jokes/"
   ]
  },
  {
   "cell_type": "markdown",
   "id": "4ecf69e9-f69a-41fb-b493-18ac43cde551",
   "metadata": {},
   "source": [
    "————————————————————————————————————————————————————————————————"
   ]
  },
  {
   "cell_type": "markdown",
   "id": "e86288a3-2e57-4959-9eae-eb62903432e2",
   "metadata": {},
   "source": [
    "### Optional information: How to manually fix your scripts\n",
    "\n",
    "<span style=\"color:red\">**Notice:**</span> After you have made adjustments on the codes in the following scripts, please directly save the scripts you edited without making a copy of them. Then, restart the kernel on Jupyter Notebook, re-run the codes, and everything will be fine.\n",
    "\n",
    "### 1) Problem:\n",
    "\n",
    "The module `collections` has no attribute `Hashable` when your Python version is higher than 3.0. \n",
    "\n",
    "**Solution:** \n",
    "\n",
    "You should use collections.abc to call the attribute `Hashable`.\n",
    "\n",
    "First, find the following script `constructor.py` in your user directory (the folder where the yaml package is installed on your computer). On my Macbook laptop, the file's path is: File /Library/Frameworks/Python.framework/Versions/3.12/lib/python3.12/site-pac kages/yaml/constructor.py\n",
    "\n",
    "Then, open the script and find the following codes:\n",
    "`in BaseConstructor.construct_mapping(self, node, deep)`\n",
    "\n",
    "Find the line `if not isinstance(key, collections.Hashable):`\n",
    "\n",
    "change `collections.Hashable` to `collections.abc.Hashable`\n",
    "\n",
    "Reference: https://stackoverflow.com/questions/71618317/importing-tronweb-shows-import-error-cannot-import-name-hashable-from-collec \n",
    "\n",
    "### 2) Problem:\n",
    "\n",
    "As indicated in the previous section, to be able to use the Chatterbot library you need a PyYAML version higher than 6.0. However, this PyYAML version is neither compatible with the latest version of Python nor the old version of the Chatterbot library (ver. 1.0.4). Therefore, you need to make some adjustments to your Chatterbot scripts. \n",
    "\n",
    "**Solution:** \n",
    "\n",
    "The new PyYAML versions that are higher than 5.1+ requires positional argument: 'Loader' for the method yaml.load(input), so the method should be rewritten as yaml.load(input, Loader=yaml.FullLoader).\n",
    "\n",
    "Find the following script `corpus.py` in the chatterbot package in your user directory (On my Macbook laptop the path is: /Library/Frameworks/Python.framework/Versions/3.12/lib/python3.12/site-pac kages/chatterbot/corpus.py)\n",
    "\n",
    "Find the following line: `in read_corpus(file_name)`\n",
    "\n",
    "Change the method `return yaml.load(data_file)` to `yaml.load(data_file, Loader=yaml.FullLoader)`\n",
    "\n",
    "Reference: https://github.com/yaml/pyyaml/wiki/PyYAML-yaml.load(input)-Deprecation \n",
    "\n",
    "### 3) Problem:\n",
    "\n",
    "To be able to run multiple flask apps at the same time, you have to avoid raising the `AssertionError()` statement by deleting relevant codes from the script `app.py`. Otherwise, you won’t be able to reuse the functions that you have executed once in the past while running the Flask App. Of course, this can be very annoying: Everytime when you re-run the codes written in the notebook files `Chatbot01.ipynb` and `Chatbot02.ipynb`, you have to give a new name to the functions (i.e., `home1()` and `get_bot_response1()`).\n",
    "\n",
    "**Solution:** \n",
    "\n",
    "Find the following script `app.py` in the flask package in your user directory (On my Macbook laptop the path is: /Library/Frameworks/Python.framework/Versions/3.12/lib/python3.12/site-packages/flask/sansio/app.py), in `line 657`\n",
    "\n",
    "Find the line `old_func = self.view_functions.get(endpoint)`, and delete the following codes:\n",
    "\n",
    "`(​​if old_func is not None and old_func != view_func:\n",
    "                raise AssertionError(\n",
    "                    \"View function mapping is overwriting an existing\"\n",
    "                    f\" endpoint function: {endpoint}\"\n",
    "              )`\n",
    "              \n",
    "Then, save the script and restart your Jupyter Notebook kernel."
   ]
  }
 ],
 "metadata": {
  "kernelspec": {
   "display_name": "Python 3 (ipykernel)",
   "language": "python",
   "name": "python3"
  },
  "language_info": {
   "codemirror_mode": {
    "name": "ipython",
    "version": 3
   },
   "file_extension": ".py",
   "mimetype": "text/x-python",
   "name": "python",
   "nbconvert_exporter": "python",
   "pygments_lexer": "ipython3",
   "version": "3.12.3"
  }
 },
 "nbformat": 4,
 "nbformat_minor": 5
}
