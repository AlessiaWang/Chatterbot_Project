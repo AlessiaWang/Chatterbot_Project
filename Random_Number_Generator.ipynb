{
 "cells": [
  {
   "cell_type": "markdown",
   "id": "2c899162-04cf-4289-927f-b886d72c28fc",
   "metadata": {},
   "source": [
    "#### **Notice: You <span style=\"color:red\">DO NOT NEED</span> to run the following codes.**"
   ]
  },
  {
   "cell_type": "markdown",
   "id": "e2f62d70-e837-4a53-9b11-6257c7269c5b",
   "metadata": {},
   "source": [
    "# Random Number Generator\n",
    "\n",
    "### 1. File Description\n",
    "This Python notebook file is written to ensure that every participant is **`randomly assigned`** to one of the two experimental conditions in the research - **Give An Option, or Give A Solution? The Role of Scepticism and Conversational Agents’ Decisional Guidance in Consumer Decision Making**. The research is conducted by **Yilan Wang** (Student Number: 12813168), a student in the research master's programme of Communication Science (September 2022 - July 2024) at University of Amsterdam, for her master's thesis.\n",
    "\n",
    "### 2. Randomisation Methods and Rules\n",
    "The experiment expects a sample consists of 128 participants. 100 random numbers ranging from 1 to 1000 were generated in the first list, while 28 random numbers ranging from 1 to 280 were generated in the second list. Therefore, in both lists, each number has the same probability (10.0%) of being selected. The order of the following 128 random numbers is linked to the order of the registered appointment time slots for each participant in the lab's recruitment system https://www.lab.uva.nl/lab/recruitment/Projects/edit_participations/16280. When a participant signs up for this study, she/he or they will be marked with the latest number available on the timeline of all appointments of this research project.\n",
    "\n",
    "- If the number is **odd**, the participant is assigned to the experimental condition 1 - Informative Decisional Guidance (See the document **`Chatbot01.ipynb`** in the same folder).\n",
    "  \n",
    "- If the number is **even**, the participant is assigned to the experimental condition 2 - Suggestive Decisional Guidance (See the document **`Chatbot02.ipynb`** in the same folder).\n",
    "\n",
    "- Moreover, because participants are allowed to sign up one hour before the experiment actually starts, the researcher needs to update the timeline of the appointments every time when a new participant signs up for the study.\n",
    "\n",
    "### 3. Codes Description\n",
    "The following codes used the Python module `random` to generate random numbers.\n",
    "  - Specifically, `random.sample(population, k, *, counts=None)` which is used for random sampling returns a k length list of unique elements chosen from the population sequence.\n",
    "    - population: the set of numbers from which you want to retrieve your sample\n",
    "    - k: the sample length (the account of numbers that the sample contains)\n",
    "    - counts: how many times does each element appear in the sample\n",
    "     \n",
    "`range(1000)` and `range(280)` which enable sampling from a range of integers are used here instead of defining the population.\n",
    "\n",
    "For more information about the module, please check the documentation: https://docs.python.org/3/library/random.html"
   ]
  },
  {
   "cell_type": "code",
   "execution_count": 1,
   "id": "016ca01a-fc6b-4d03-9f6f-73d7ec93a2b3",
   "metadata": {},
   "outputs": [],
   "source": [
    "#import the random module\n",
    "import random"
   ]
  },
  {
   "cell_type": "code",
   "execution_count": 3,
   "id": "00003a89-7edc-4456-a970-ca22e8d46ea6",
   "metadata": {},
   "outputs": [
    {
     "data": {
      "text/plain": [
       "[797,\n",
       " 138,\n",
       " 412,\n",
       " 871,\n",
       " 625,\n",
       " 782,\n",
       " 956,\n",
       " 980,\n",
       " 144,\n",
       " 147,\n",
       " 423,\n",
       " 799,\n",
       " 194,\n",
       " 597,\n",
       " 493,\n",
       " 638,\n",
       " 475,\n",
       " 283,\n",
       " 125,\n",
       " 385,\n",
       " 706,\n",
       " 647,\n",
       " 453,\n",
       " 599,\n",
       " 442,\n",
       " 153,\n",
       " 668,\n",
       " 267,\n",
       " 680,\n",
       " 583,\n",
       " 62,\n",
       " 459,\n",
       " 299,\n",
       " 443,\n",
       " 547,\n",
       " 655,\n",
       " 732,\n",
       " 466,\n",
       " 703,\n",
       " 774,\n",
       " 161,\n",
       " 230,\n",
       " 523,\n",
       " 434,\n",
       " 846,\n",
       " 134,\n",
       " 823,\n",
       " 225,\n",
       " 574,\n",
       " 633,\n",
       " 335,\n",
       " 601,\n",
       " 938,\n",
       " 644,\n",
       " 941,\n",
       " 824,\n",
       " 253,\n",
       " 660,\n",
       " 231,\n",
       " 575,\n",
       " 604,\n",
       " 20,\n",
       " 750,\n",
       " 613,\n",
       " 905,\n",
       " 145,\n",
       " 228,\n",
       " 435,\n",
       " 661,\n",
       " 151,\n",
       " 721,\n",
       " 85,\n",
       " 884,\n",
       " 309,\n",
       " 490,\n",
       " 169,\n",
       " 995,\n",
       " 13,\n",
       " 76,\n",
       " 50,\n",
       " 82,\n",
       " 923,\n",
       " 398,\n",
       " 139,\n",
       " 841,\n",
       " 757,\n",
       " 579,\n",
       " 844,\n",
       " 396,\n",
       " 787,\n",
       " 181,\n",
       " 337,\n",
       " 63,\n",
       " 751,\n",
       " 372,\n",
       " 301,\n",
       " 910,\n",
       " 178,\n",
       " 182,\n",
       " 497]"
      ]
     },
     "execution_count": 3,
     "metadata": {},
     "output_type": "execute_result"
    }
   ],
   "source": [
    "#generate a random sample which contains 100 numbers from the range [1,1000]\n",
    "random.sample(range(1000), k=100)"
   ]
  },
  {
   "cell_type": "code",
   "execution_count": 2,
   "id": "fd6e6540-5fb4-43aa-b4da-5fe31f307580",
   "metadata": {},
   "outputs": [
    {
     "data": {
      "text/plain": [
       "[148,\n",
       " 234,\n",
       " 87,\n",
       " 33,\n",
       " 185,\n",
       " 126,\n",
       " 113,\n",
       " 101,\n",
       " 151,\n",
       " 262,\n",
       " 161,\n",
       " 173,\n",
       " 94,\n",
       " 264,\n",
       " 95,\n",
       " 54,\n",
       " 10,\n",
       " 52,\n",
       " 121,\n",
       " 118,\n",
       " 124,\n",
       " 255,\n",
       " 230,\n",
       " 20,\n",
       " 253,\n",
       " 192,\n",
       " 174,\n",
       " 41]"
      ]
     },
     "execution_count": 2,
     "metadata": {},
     "output_type": "execute_result"
    }
   ],
   "source": [
    "#generate a random sample which contains 28 numbers from the range [1,280]\n",
    "random.sample(range(280), k=28)"
   ]
  }
 ],
 "metadata": {
  "kernelspec": {
   "display_name": "Python 3 (ipykernel)",
   "language": "python",
   "name": "python3"
  },
  "language_info": {
   "codemirror_mode": {
    "name": "ipython",
    "version": 3
   },
   "file_extension": ".py",
   "mimetype": "text/x-python",
   "name": "python",
   "nbconvert_exporter": "python",
   "pygments_lexer": "ipython3",
   "version": "3.12.3"
  }
 },
 "nbformat": 4,
 "nbformat_minor": 5
}
